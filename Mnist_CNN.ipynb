{
 "cells": [
  {
   "cell_type": "code",
   "execution_count": 8,
   "metadata": {},
   "outputs": [],
   "source": [
    "import os\n",
    "import numpy as np\n",
    "import matplotlib.pyplot as plt\n",
    "%matplotlib inline\n",
    "from sklearn.model_selection import train_test_split\n",
    "from sklearn.metrics import confusion_matrix\n",
    "import pandas as pd"
   ]
  },
  {
   "cell_type": "code",
   "execution_count": 9,
   "metadata": {},
   "outputs": [],
   "source": [
    "os.chdir(\"D:/Santosh/Data Science/AI Sat/CNN/Week2/self_practice\")"
   ]
  },
  {
   "cell_type": "markdown",
   "metadata": {},
   "source": [
    "# Keras Function"
   ]
  },
  {
   "cell_type": "code",
   "execution_count": 10,
   "metadata": {},
   "outputs": [],
   "source": [
    "from keras.utils.np_utils import to_categorical\n",
    "from keras.models import Sequential\n",
    "from keras.layers import Dense,Dropout,Flatten,Conv2D,MaxPool2D,BatchNormalization\n",
    "from keras.optimizers import Adam\n",
    "from keras.preprocessing.image import ImageDataGenerator\n",
    "from keras.callbacks import LearningRateScheduler"
   ]
  },
  {
   "cell_type": "code",
   "execution_count": 11,
   "metadata": {},
   "outputs": [],
   "source": [
    "train_Mnist = pd.read_csv(\"Mnist_train.csv\")\n",
    "test_Mnist = pd.read_csv(\"Mnist_test.csv\")"
   ]
  },
  {
   "cell_type": "code",
   "execution_count": 14,
   "metadata": {},
   "outputs": [
    {
     "data": {
      "text/plain": [
       "(42000, 785)"
      ]
     },
     "execution_count": 14,
     "metadata": {},
     "output_type": "execute_result"
    }
   ],
   "source": [
    "train_Mnist.shape"
   ]
  },
  {
   "cell_type": "code",
   "execution_count": 15,
   "metadata": {},
   "outputs": [
    {
     "data": {
      "text/plain": [
       "(28000, 784)"
      ]
     },
     "execution_count": 15,
     "metadata": {},
     "output_type": "execute_result"
    }
   ],
   "source": [
    "test_Mnist.shape"
   ]
  },
  {
   "cell_type": "code",
   "execution_count": 18,
   "metadata": {},
   "outputs": [
    {
     "data": {
      "text/html": [
       "<div>\n",
       "<style scoped>\n",
       "    .dataframe tbody tr th:only-of-type {\n",
       "        vertical-align: middle;\n",
       "    }\n",
       "\n",
       "    .dataframe tbody tr th {\n",
       "        vertical-align: top;\n",
       "    }\n",
       "\n",
       "    .dataframe thead th {\n",
       "        text-align: right;\n",
       "    }\n",
       "</style>\n",
       "<table border=\"1\" class=\"dataframe\">\n",
       "  <thead>\n",
       "    <tr style=\"text-align: right;\">\n",
       "      <th></th>\n",
       "      <th>label</th>\n",
       "      <th>pixel0</th>\n",
       "      <th>pixel1</th>\n",
       "      <th>pixel2</th>\n",
       "      <th>pixel3</th>\n",
       "      <th>pixel4</th>\n",
       "      <th>pixel5</th>\n",
       "      <th>pixel6</th>\n",
       "      <th>pixel7</th>\n",
       "      <th>pixel8</th>\n",
       "      <th>...</th>\n",
       "      <th>pixel774</th>\n",
       "      <th>pixel775</th>\n",
       "      <th>pixel776</th>\n",
       "      <th>pixel777</th>\n",
       "      <th>pixel778</th>\n",
       "      <th>pixel779</th>\n",
       "      <th>pixel780</th>\n",
       "      <th>pixel781</th>\n",
       "      <th>pixel782</th>\n",
       "      <th>pixel783</th>\n",
       "    </tr>\n",
       "  </thead>\n",
       "  <tbody>\n",
       "    <tr>\n",
       "      <th>0</th>\n",
       "      <td>1</td>\n",
       "      <td>0</td>\n",
       "      <td>0</td>\n",
       "      <td>0</td>\n",
       "      <td>0</td>\n",
       "      <td>0</td>\n",
       "      <td>0</td>\n",
       "      <td>0</td>\n",
       "      <td>0</td>\n",
       "      <td>0</td>\n",
       "      <td>...</td>\n",
       "      <td>0</td>\n",
       "      <td>0</td>\n",
       "      <td>0</td>\n",
       "      <td>0</td>\n",
       "      <td>0</td>\n",
       "      <td>0</td>\n",
       "      <td>0</td>\n",
       "      <td>0</td>\n",
       "      <td>0</td>\n",
       "      <td>0</td>\n",
       "    </tr>\n",
       "    <tr>\n",
       "      <th>1</th>\n",
       "      <td>0</td>\n",
       "      <td>0</td>\n",
       "      <td>0</td>\n",
       "      <td>0</td>\n",
       "      <td>0</td>\n",
       "      <td>0</td>\n",
       "      <td>0</td>\n",
       "      <td>0</td>\n",
       "      <td>0</td>\n",
       "      <td>0</td>\n",
       "      <td>...</td>\n",
       "      <td>0</td>\n",
       "      <td>0</td>\n",
       "      <td>0</td>\n",
       "      <td>0</td>\n",
       "      <td>0</td>\n",
       "      <td>0</td>\n",
       "      <td>0</td>\n",
       "      <td>0</td>\n",
       "      <td>0</td>\n",
       "      <td>0</td>\n",
       "    </tr>\n",
       "    <tr>\n",
       "      <th>2</th>\n",
       "      <td>1</td>\n",
       "      <td>0</td>\n",
       "      <td>0</td>\n",
       "      <td>0</td>\n",
       "      <td>0</td>\n",
       "      <td>0</td>\n",
       "      <td>0</td>\n",
       "      <td>0</td>\n",
       "      <td>0</td>\n",
       "      <td>0</td>\n",
       "      <td>...</td>\n",
       "      <td>0</td>\n",
       "      <td>0</td>\n",
       "      <td>0</td>\n",
       "      <td>0</td>\n",
       "      <td>0</td>\n",
       "      <td>0</td>\n",
       "      <td>0</td>\n",
       "      <td>0</td>\n",
       "      <td>0</td>\n",
       "      <td>0</td>\n",
       "    </tr>\n",
       "    <tr>\n",
       "      <th>3</th>\n",
       "      <td>4</td>\n",
       "      <td>0</td>\n",
       "      <td>0</td>\n",
       "      <td>0</td>\n",
       "      <td>0</td>\n",
       "      <td>0</td>\n",
       "      <td>0</td>\n",
       "      <td>0</td>\n",
       "      <td>0</td>\n",
       "      <td>0</td>\n",
       "      <td>...</td>\n",
       "      <td>0</td>\n",
       "      <td>0</td>\n",
       "      <td>0</td>\n",
       "      <td>0</td>\n",
       "      <td>0</td>\n",
       "      <td>0</td>\n",
       "      <td>0</td>\n",
       "      <td>0</td>\n",
       "      <td>0</td>\n",
       "      <td>0</td>\n",
       "    </tr>\n",
       "    <tr>\n",
       "      <th>4</th>\n",
       "      <td>0</td>\n",
       "      <td>0</td>\n",
       "      <td>0</td>\n",
       "      <td>0</td>\n",
       "      <td>0</td>\n",
       "      <td>0</td>\n",
       "      <td>0</td>\n",
       "      <td>0</td>\n",
       "      <td>0</td>\n",
       "      <td>0</td>\n",
       "      <td>...</td>\n",
       "      <td>0</td>\n",
       "      <td>0</td>\n",
       "      <td>0</td>\n",
       "      <td>0</td>\n",
       "      <td>0</td>\n",
       "      <td>0</td>\n",
       "      <td>0</td>\n",
       "      <td>0</td>\n",
       "      <td>0</td>\n",
       "      <td>0</td>\n",
       "    </tr>\n",
       "  </tbody>\n",
       "</table>\n",
       "<p>5 rows × 785 columns</p>\n",
       "</div>"
      ],
      "text/plain": [
       "   label  pixel0  pixel1  pixel2  pixel3  pixel4  pixel5  pixel6  pixel7  \\\n",
       "0      1       0       0       0       0       0       0       0       0   \n",
       "1      0       0       0       0       0       0       0       0       0   \n",
       "2      1       0       0       0       0       0       0       0       0   \n",
       "3      4       0       0       0       0       0       0       0       0   \n",
       "4      0       0       0       0       0       0       0       0       0   \n",
       "\n",
       "   pixel8    ...     pixel774  pixel775  pixel776  pixel777  pixel778  \\\n",
       "0       0    ...            0         0         0         0         0   \n",
       "1       0    ...            0         0         0         0         0   \n",
       "2       0    ...            0         0         0         0         0   \n",
       "3       0    ...            0         0         0         0         0   \n",
       "4       0    ...            0         0         0         0         0   \n",
       "\n",
       "   pixel779  pixel780  pixel781  pixel782  pixel783  \n",
       "0         0         0         0         0         0  \n",
       "1         0         0         0         0         0  \n",
       "2         0         0         0         0         0  \n",
       "3         0         0         0         0         0  \n",
       "4         0         0         0         0         0  \n",
       "\n",
       "[5 rows x 785 columns]"
      ]
     },
     "execution_count": 18,
     "metadata": {},
     "output_type": "execute_result"
    }
   ],
   "source": [
    "train_Mnist.head()"
   ]
  },
  {
   "cell_type": "markdown",
   "metadata": {},
   "source": [
    "# The labels were given as integers between 0 and 9. We need to convert these to one-hot encoding, i.e. a 10x1 array with one 1 and nine 0:s, with the position of the 1 showing us the value. See the example, with the position of the 1 showing the correct value for the digit in the graph above."
   ]
  },
  {
   "cell_type": "code",
   "execution_count": 21,
   "metadata": {},
   "outputs": [],
   "source": [
    "X = np.array(train_Mnist.iloc[:, 1:])\n",
    "y = to_categorical(np.array(train_Mnist.iloc[:, 0]))\n",
    "\n",
    "#Here we split validation data to optimiza classifier during training\n",
    "X_train, X_val, y_train, y_val = train_test_split(X, y, test_size=0.2, random_state=13)"
   ]
  },
  {
   "cell_type": "code",
   "execution_count": 26,
   "metadata": {},
   "outputs": [
    {
     "data": {
      "text/plain": [
       "array([[1., 0., 0., 0., 0., 0., 0., 0., 0., 0.],\n",
       "       [0., 1., 0., 0., 0., 0., 0., 0., 0., 0.],\n",
       "       [0., 0., 0., 0., 1., 0., 0., 0., 0., 0.],\n",
       "       [1., 0., 0., 0., 0., 0., 0., 0., 0., 0.]])"
      ]
     },
     "execution_count": 26,
     "metadata": {},
     "output_type": "execute_result"
    }
   ],
   "source": [
    "y[1:5]"
   ]
  },
  {
   "cell_type": "code",
   "execution_count": 30,
   "metadata": {},
   "outputs": [
    {
     "data": {
      "text/plain": [
       "Text(0.5,1,'28x28')"
      ]
     },
     "execution_count": 30,
     "metadata": {},
     "output_type": "execute_result"
    },
    {
     "data": {
      "image/png": "[encoded data removed]",
      "text/plain": [
       "<matplotlib.figure.Figure at 0x16803f9ec50>"
      ]
     },
     "metadata": {},
     "output_type": "display_data"
    }
   ],
   "source": [
    "fig,ax = plt.subplots(1,2,figsize = (15,10))\n",
    "ax[0].plot(X_train[0])\n",
    "ax[0].set_title('784x1 data')\n",
    "ax[1].imshow(X_train[0].reshape(28,28),cmap = 'gray')\n",
    "ax[1].set_title('28x28')"
   ]
  },
  {
   "cell_type": "code",
   "execution_count": 32,
   "metadata": {},
   "outputs": [
    {
     "data": {
      "text/plain": [
       "(33600, 784)"
      ]
     },
     "execution_count": 32,
     "metadata": {},
     "output_type": "execute_result"
    }
   ],
   "source": [
    "X_train.shape"
   ]
  },
  {
   "cell_type": "code",
   "execution_count": 41,
   "metadata": {},
   "outputs": [
    {
     "data": {
      "text/plain": [
       "(8400, 784)"
      ]
     },
     "execution_count": 41,
     "metadata": {},
     "output_type": "execute_result"
    }
   ],
   "source": [
    "X_val.shape"
   ]
  },
  {
   "cell_type": "code",
   "execution_count": 42,
   "metadata": {},
   "outputs": [],
   "source": [
    "Mnist_train = X_train.reshape(-1,28,28,1)\n",
    "Mnist_val = X_val.reshape(-1,28,28,1)"
   ]
  },
  {
   "cell_type": "code",
   "execution_count": 43,
   "metadata": {},
   "outputs": [
    {
     "data": {
      "text/plain": [
       "(33600, 28, 28, 1)"
      ]
     },
     "execution_count": 43,
     "metadata": {},
     "output_type": "execute_result"
    }
   ],
   "source": [
    "Mnist_train.shape"
   ]
  },
  {
   "cell_type": "code",
   "execution_count": 39,
   "metadata": {},
   "outputs": [
    {
     "data": {
      "image/png": "[encoded data removed]",
      "text/plain": [
       "<IPython.core.display.Image object>"
      ]
     },
     "execution_count": 39,
     "metadata": {},
     "output_type": "execute_result"
    }
   ],
   "source": [
    "from IPython.display import Image\n",
    "img = 'Reshape.PNG'\n",
    "Image(filename=img)"
   ]
  },
  {
   "cell_type": "markdown",
   "metadata": {},
   "source": [
    "# Normalization of the Image- Data b/w 0 and 1 make net converge Faster"
   ]
  },
  {
   "cell_type": "code",
   "execution_count": 46,
   "metadata": {},
   "outputs": [],
   "source": [
    "Mnist_train = Mnist_train.astype(\"float32\")/255\n",
    "Mnist_val = Mnist_val.astype(\"float32\")/255"
   ]
  },
  {
   "cell_type": "markdown",
   "metadata": {},
   "source": [
    "# Keras- Sequential API to Train the Model"
   ]
  },
  {
   "cell_type": "code",
   "execution_count": 52,
   "metadata": {},
   "outputs": [],
   "source": [
    "mnist_1 = Sequential()\n",
    "mnist_1.add(Conv2D(filters = 16,kernel_size = (3,3),activation = 'relu',input_shape = (28,28,1)))\n",
    "mnist_1.add(BatchNormalization())\n",
    "mnist_1.add(Conv2D(filters = 16,kernel_size = (3,3),activation = 'relu'))\n",
    "mnist_1.add(BatchNormalization())\n",
    "mnist_1.add(MaxPool2D(strides = (2,2)))\n",
    "mnist_1.add(Dropout(0.25))\n",
    "\n",
    "mnist_1.add(Conv2D(filters = 32,kernel_size = (3,3),activation = 'relu'))\n",
    "mnist_1.add(Conv2D(filters = 32,kernel_size = (3,3),activation= 'relu'))\n",
    "mnist_1.add(BatchNormalization())\n",
    "mnist_1.add(MaxPool2D(strides=(2,2)))\n",
    "mnist_1.add(Dropout(0.20))\n",
    "\n",
    "mnist_1.add(Flatten())\n",
    "mnist_1.add(Dense(512,activation = 'relu'))\n",
    "mnist_1.add(Dropout(0.25))\n",
    "mnist_1.add(Dense(1024,activation = 'relu'))\n",
    "mnist_1.add(Dropout(0.5))\n",
    "mnist_1.add(Dense(10,activation = 'softmax'))\n"
   ]
  },
  {
   "cell_type": "markdown",
   "metadata": {},
   "source": [
    "# Data Augmentation"
   ]
  },
  {
   "cell_type": "code",
   "execution_count": 54,
   "metadata": {},
   "outputs": [],
   "source": [
    "datagen = ImageDataGenerator(zoom_range = 0.1,\n",
    "                            height_shift_range = 0.1,\n",
    "                            width_shift_range = 0.1,\n",
    "                            rotation_range = 10)"
   ]
  },
  {
   "cell_type": "code",
   "execution_count": 55,
   "metadata": {},
   "outputs": [],
   "source": [
    "mnist_1.compile(loss = 'categorical_crossentropy',optimizer = Adam(lr = 1e-4),metrics = ['accuracy'])"
   ]
  },
  {
   "cell_type": "code",
   "execution_count": 58,
   "metadata": {},
   "outputs": [],
   "source": [
    "annealer = LearningRateScheduler(lambda x: 1e-3 * 0.9 ** x)"
   ]
  },
  {
   "cell_type": "code",
   "execution_count": 60,
   "metadata": {},
   "outputs": [
    {
     "name": "stdout",
     "output_type": "stream",
     "text": [
      "Epoch 1/40\n",
      " - 62s - loss: 0.8505 - acc: 0.7216 - val_loss: 0.2120 - val_acc: 0.9375\n",
      "Epoch 2/40\n",
      " - 59s - loss: 0.3318 - acc: 0.8981 - val_loss: 0.1692 - val_acc: 0.9525\n",
      "Epoch 3/40\n",
      " - 57s - loss: 0.2505 - acc: 0.9235 - val_loss: 0.1130 - val_acc: 0.9575\n",
      "Epoch 4/40\n",
      " - 53s - loss: 0.1955 - acc: 0.9395 - val_loss: 0.1236 - val_acc: 0.9650\n",
      "Epoch 5/40\n",
      " - 49s - loss: 0.1774 - acc: 0.9425 - val_loss: 0.0694 - val_acc: 0.9800\n",
      "Epoch 6/40\n",
      " - 49s - loss: 0.1511 - acc: 0.9534 - val_loss: 0.0529 - val_acc: 0.9850\n",
      "Epoch 7/40\n",
      " - 47s - loss: 0.1360 - acc: 0.9586 - val_loss: 0.0395 - val_acc: 0.9875\n",
      "Epoch 8/40\n",
      " - 49s - loss: 0.1326 - acc: 0.9603 - val_loss: 0.0359 - val_acc: 0.9925\n",
      "Epoch 9/40\n",
      " - 48s - loss: 0.1095 - acc: 0.9667 - val_loss: 0.0863 - val_acc: 0.9650\n",
      "Epoch 10/40\n",
      " - 47s - loss: 0.1120 - acc: 0.9656 - val_loss: 0.0359 - val_acc: 0.9900\n",
      "Epoch 11/40\n",
      " - 47s - loss: 0.0996 - acc: 0.9711 - val_loss: 0.0334 - val_acc: 0.9925\n",
      "Epoch 12/40\n",
      " - 47s - loss: 0.0917 - acc: 0.9725 - val_loss: 0.0385 - val_acc: 0.9875\n",
      "Epoch 13/40\n",
      " - 47s - loss: 0.0893 - acc: 0.9724 - val_loss: 0.0381 - val_acc: 0.9925\n",
      "Epoch 14/40\n",
      " - 48s - loss: 0.0945 - acc: 0.9708 - val_loss: 0.0298 - val_acc: 0.9925\n",
      "Epoch 15/40\n",
      " - 49s - loss: 0.0771 - acc: 0.9758 - val_loss: 0.0636 - val_acc: 0.9750\n",
      "Epoch 16/40\n",
      " - 47s - loss: 0.0808 - acc: 0.9751 - val_loss: 0.0464 - val_acc: 0.9875\n",
      "Epoch 17/40\n",
      " - 47s - loss: 0.0740 - acc: 0.9789 - val_loss: 0.0418 - val_acc: 0.9825\n",
      "Epoch 18/40\n",
      " - 47s - loss: 0.0717 - acc: 0.9765 - val_loss: 0.0402 - val_acc: 0.9900\n",
      "Epoch 19/40\n",
      " - 47s - loss: 0.0678 - acc: 0.9805 - val_loss: 0.0320 - val_acc: 0.9950\n",
      "Epoch 20/40\n",
      " - 48s - loss: 0.0729 - acc: 0.9796 - val_loss: 0.0316 - val_acc: 0.9925\n",
      "Epoch 21/40\n",
      " - 48s - loss: 0.0699 - acc: 0.9781 - val_loss: 0.0319 - val_acc: 0.9925\n",
      "Epoch 22/40\n",
      " - 48s - loss: 0.0632 - acc: 0.9812 - val_loss: 0.0289 - val_acc: 0.9900\n",
      "Epoch 23/40\n",
      " - 47s - loss: 0.0650 - acc: 0.9800 - val_loss: 0.0372 - val_acc: 0.9900\n",
      "Epoch 24/40\n",
      " - 47s - loss: 0.0682 - acc: 0.9783 - val_loss: 0.0282 - val_acc: 0.9925\n",
      "Epoch 25/40\n",
      " - 48s - loss: 0.0677 - acc: 0.9783 - val_loss: 0.0343 - val_acc: 0.9900\n",
      "Epoch 26/40\n",
      " - 48s - loss: 0.0604 - acc: 0.9803 - val_loss: 0.0303 - val_acc: 0.9925\n",
      "Epoch 27/40\n",
      " - 49s - loss: 0.0610 - acc: 0.9829 - val_loss: 0.0329 - val_acc: 0.9925\n",
      "Epoch 28/40\n",
      " - 47s - loss: 0.0638 - acc: 0.9815 - val_loss: 0.0313 - val_acc: 0.9950\n",
      "Epoch 29/40\n",
      " - 47s - loss: 0.0608 - acc: 0.9831 - val_loss: 0.0302 - val_acc: 0.9925\n",
      "Epoch 30/40\n",
      " - 47s - loss: 0.0583 - acc: 0.9790 - val_loss: 0.0326 - val_acc: 0.9950\n",
      "Epoch 31/40\n",
      " - 47s - loss: 0.0602 - acc: 0.9835 - val_loss: 0.0265 - val_acc: 0.9950\n",
      "Epoch 32/40\n",
      " - 47s - loss: 0.0601 - acc: 0.9820 - val_loss: 0.0309 - val_acc: 0.9925\n",
      "Epoch 33/40\n",
      " - 47s - loss: 0.0650 - acc: 0.9812 - val_loss: 0.0295 - val_acc: 0.9925\n",
      "Epoch 34/40\n",
      " - 47s - loss: 0.0498 - acc: 0.9846 - val_loss: 0.0325 - val_acc: 0.9925\n",
      "Epoch 35/40\n",
      " - 48s - loss: 0.0592 - acc: 0.9828 - val_loss: 0.0337 - val_acc: 0.9950\n",
      "Epoch 36/40\n",
      " - 47s - loss: 0.0566 - acc: 0.9836 - val_loss: 0.0311 - val_acc: 0.9925\n",
      "Epoch 37/40\n",
      " - 47s - loss: 0.0549 - acc: 0.9836 - val_loss: 0.0276 - val_acc: 0.9925\n",
      "Epoch 38/40\n",
      " - 48s - loss: 0.0584 - acc: 0.9825 - val_loss: 0.0306 - val_acc: 0.9950\n",
      "Epoch 39/40\n",
      " - 47s - loss: 0.0591 - acc: 0.9818 - val_loss: 0.0299 - val_acc: 0.9950\n",
      "Epoch 40/40\n",
      " - 47s - loss: 0.0556 - acc: 0.9821 - val_loss: 0.0280 - val_acc: 0.9950\n"
     ]
    }
   ],
   "source": [
    "hsit  = mnist_1.fit_generator(datagen.flow(Mnist_train,y_train,batch_size = 32),\n",
    "                              steps_per_epoch = 250,\n",
    "                              epochs = 40,\n",
    "                              verbose = 2,\n",
    "                              validation_data = (Mnist_val[:400,:],y_val[:400,:]),\n",
    "                              callbacks = [annealer])\n",
    "                              "
   ]
  },
  {
   "cell_type": "markdown",
   "metadata": {},
   "source": [
    "# Model Evaluation Using Complete Dataset"
   ]
  },
  {
   "cell_type": "code",
   "execution_count": 63,
   "metadata": {},
   "outputs": [],
   "source": [
    "loss,acc = mnist_1.evaluate(Mnist_val,y_val,verbose =0)"
   ]
  },
  {
   "cell_type": "code",
   "execution_count": 69,
   "metadata": {},
   "outputs": [
    {
     "name": "stdout",
     "output_type": "stream",
     "text": [
      "Final Loss: 0.0279,Final accuracy:0.9919\n"
     ]
    }
   ],
   "source": [
    "print(\"Final Loss: {0:.4f},Final accuracy:{1:.4f}\".format(loss,acc))"
   ]
  },
  {
   "cell_type": "code",
   "execution_count": 72,
   "metadata": {},
   "outputs": [
    {
     "data": {
      "image/png": "[encoded data removed]",
      "text/plain": [
       "<matplotlib.figure.Figure at 0x1681af2d748>"
      ]
     },
     "metadata": {},
     "output_type": "display_data"
    }
   ],
   "source": [
    "plt.plot(hsit.history['loss'],color = 'b')\n",
    "plt.plot(hsit.history['val_loss'],color = 'r')\n",
    "plt.show()"
   ]
  },
  {
   "cell_type": "code",
   "execution_count": 75,
   "metadata": {},
   "outputs": [
    {
     "data": {
      "image/png": "[encoded data removed]",
      "text/plain": [
       "<matplotlib.figure.Figure at 0x1681b69dda0>"
      ]
     },
     "metadata": {},
     "output_type": "display_data"
    }
   ],
   "source": [
    "plt.plot(hsit.history[\"acc\"],color = 'g')\n",
    "plt.plot(hsit.history['val_acc'],color = 'm')\n",
    "plt.show()"
   ]
  },
  {
   "cell_type": "code",
   "execution_count": 83,
   "metadata": {},
   "outputs": [
    {
     "name": "stdout",
     "output_type": "stream",
     "text": [
      "[[818   0   0   0   0   0   4   0   3   0]\n",
      " [  0 916   0   1   0   0   1   6   1   0]\n",
      " [  1   0 801   1   0   0   0   3   1   1]\n",
      " [  1   0   3 854   0   3   0   1   3   1]\n",
      " [  0   0   0   0 817   0   0   1   0   5]\n",
      " [  0   0   1   1   0 803   1   0   0   0]\n",
      " [  2   0   0   1   1   1 819   0   0   0]\n",
      " [  0   2   6   0   1   0   0 877   0   1]\n",
      " [  0   0   1   0   0   0   0   0 828   1]\n",
      " [  2   0   0   0   1   0   0   0   4 799]]\n"
     ]
    }
   ],
   "source": [
    "y_hat = mnist_1.predict(Mnist_val)\n",
    "y_pred = np.argmax(y_hat,axis = 1)\n",
    "y_true = np.argmax(y_val,axis = 1)\n",
    "cm = confusion_matrix(y_true,y_pred)\n",
    "print(cm)"
   ]
  },
  {
   "cell_type": "markdown",
   "metadata": {},
   "source": [
    "# Calculating Precision,Recall and F- Measure"
   ]
  },
  {
   "cell_type": "code",
   "execution_count": 84,
   "metadata": {},
   "outputs": [],
   "source": [
    "# Precision = TP/(TP + FP)\n",
    "# Recall = TP/(TP + FN)\n",
    "# F1 Measure = (1/ (1/P + 1/R))\n"
   ]
  },
  {
   "cell_type": "code",
   "execution_count": 94,
   "metadata": {},
   "outputs": [],
   "source": [
    "TP = np.diag(cm)\n",
    "FP = np.sum(cm,axis= 0)-TP\n",
    "FN = np.sum(cm,axis = 1)"
   ]
  },
  {
   "cell_type": "code",
   "execution_count": 95,
   "metadata": {},
   "outputs": [],
   "source": [
    "Precision = TP/(TP + FP)\n",
    "Recall = TP/(TP + FN)\n",
    "f1_measure = 1/((1/Precision)+ (1/Recall))"
   ]
  },
  {
   "cell_type": "code",
   "execution_count": 96,
   "metadata": {},
   "outputs": [
    {
     "data": {
      "text/plain": [
       "array([0.99271845, 0.99782135, 0.9864532 , 0.995338  , 0.99634146,\n",
       "       0.99504337, 0.99272727, 0.98761261, 0.98571429, 0.98886139])"
      ]
     },
     "execution_count": 96,
     "metadata": {},
     "output_type": "execute_result"
    }
   ],
   "source": [
    "Precision"
   ]
  },
  {
   "cell_type": "code",
   "execution_count": 97,
   "metadata": {},
   "outputs": [
    {
     "data": {
      "text/plain": [
       "array([0.49786975, 0.49755568, 0.49782474, 0.49651163, 0.49817073,\n",
       "       0.49906774, 0.49847839, 0.49716553, 0.49939686, 0.49781931])"
      ]
     },
     "execution_count": 97,
     "metadata": {},
     "output_type": "execute_result"
    }
   ],
   "source": [
    "Recall"
   ]
  },
  {
   "cell_type": "code",
   "execution_count": 99,
   "metadata": {},
   "outputs": [
    {
     "data": {
      "text/plain": [
       "array([0.33157681, 0.33200435, 0.33085502, 0.33126455, 0.33211382,\n",
       "       0.33236755, 0.33184765, 0.33069382, 0.33146517, 0.33112308])"
      ]
     },
     "execution_count": 99,
     "metadata": {},
     "output_type": "execute_result"
    }
   ],
   "source": [
    "f1_measure"
   ]
  },
  {
   "cell_type": "markdown",
   "metadata": {},
   "source": [
    "# Test Dataset"
   ]
  },
  {
   "cell_type": "code",
   "execution_count": 101,
   "metadata": {},
   "outputs": [
    {
     "data": {
      "text/plain": [
       "(28000, 784)"
      ]
     },
     "execution_count": 101,
     "metadata": {},
     "output_type": "execute_result"
    }
   ],
   "source": [
    "mnist_test = pd.read_csv(\"Mnist_test.csv\")\n",
    "mnist_test.shape"
   ]
  },
  {
   "cell_type": "code",
   "execution_count": 103,
   "metadata": {},
   "outputs": [],
   "source": [
    "mnist_test = np.array(mnist_test.astype(\"float32\"))\n",
    "x_test = mnist_test.reshape(-1,28,28,1)/255"
   ]
  },
  {
   "cell_type": "code",
   "execution_count": 104,
   "metadata": {},
   "outputs": [],
   "source": [
    "y_hat = mnist_1.predict(x_test,batch_size = 32)\n"
   ]
  },
  {
   "cell_type": "code",
   "execution_count": 105,
   "metadata": {},
   "outputs": [],
   "source": [
    "y_pred = np.argmax(y_hat,axis = 1)"
   ]
  },
  {
   "cell_type": "code",
   "execution_count": 116,
   "metadata": {},
   "outputs": [],
   "source": [
    "results = pd.Series(y_pred,name = 'Label')\n",
    "submission = pd.concat([pd.Series(range(1,28001),name = 'ImageId'),results],axis = 1)\n",
    "submission.to_csv(\"CNN_Mnist_Test.csv\",index = False)"
   ]
  },
  {
   "cell_type": "code",
   "execution_count": null,
   "metadata": {},
   "outputs": [],
   "source": []
  }
 ],
 "metadata": {
  "kernelspec": {
   "display_name": "Python 3",
   "language": "python",
   "name": "python3"
  },
  "language_info": {
   "codemirror_mode": {
    "name": "ipython",
    "version": 3
   },
   "file_extension": ".py",
   "mimetype": "text/x-python",
   "name": "python",
   "nbconvert_exporter": "python",
   "pygments_lexer": "ipython3",
   "version": "3.6.4"
  }
 },
 "nbformat": 4,
 "nbformat_minor": 2
}
